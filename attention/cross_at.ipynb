{
 "cells": [
  {
   "cell_type": "code",
   "execution_count": 1,
   "metadata": {},
   "outputs": [],
   "source": [
    "import torch\n",
    "from torch import nn, einsum\n",
    "import lovely_tensors as lt\n",
    "lt.monkey_patch()"
   ]
  },
  {
   "cell_type": "code",
   "execution_count": null,
   "metadata": {},
   "outputs": [],
   "source": [
    "class CrossAttention(nn.Module):\n",
    "    def __init__(self, C):\n",
    "        W_q = nn.Conv1d(in_channels=C, out_channels=C, kernel_size=1)\n",
    "\t\tW_k = nn.Conv1d(in_channels=C, out_channels=C, kernel_size=1)\n",
    "\t\tW_v = nn.Conv1d(in_channels=C, out_channels=C, kernel_size=1)\n",
    "        \n",
    "  "
   ]
  },
  {
   "cell_type": "code",
   "execution_count": null,
   "metadata": {},
   "outputs": [],
   "source": [
    "def _step(self, batch, batch_idx, dataset):\n",
    "    X, y = batch\n",
    "    # 왜 여기서 normalize? pl에서 안되는건가?\n",
    "    with torch.no_grad:\n",
    "        X = X * 2 - 1 # "
   ]
  },
  {
   "cell_type": "code",
   "execution_count": null,
   "metadata": {},
   "outputs": [],
   "source": [
    "class GaussianDiffusion(nn.Module):\n",
    "    def __init__(self, dtype, model, betas, w, v, device):\n",
    "        super().__init__()\n",
    "        self.dtype = dtype\n",
    "        self.model = model.to(device)\n",
    "        self.betas = torch.tensor(betas)\n",
    "        self.w = w\n",
    "        self.v = v\n",
    "        self.T = len(betas)\n",
    "        self.alphas = 1 - self.betas\n",
    "        self.log_alpha = torch.log(self.)"
   ]
  }
 ],
 "metadata": {
  "kernelspec": {
   "display_name": "3dfm",
   "language": "python",
   "name": "python3"
  },
  "language_info": {
   "codemirror_mode": {
    "name": "ipython",
    "version": 3
   },
   "file_extension": ".py",
   "mimetype": "text/x-python",
   "name": "python",
   "nbconvert_exporter": "python",
   "pygments_lexer": "ipython3",
   "version": "3.8.15"
  },
  "orig_nbformat": 4
 },
 "nbformat": 4,
 "nbformat_minor": 2
}
